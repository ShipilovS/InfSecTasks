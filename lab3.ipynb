{
 "cells": [
  {
   "cell_type": "code",
   "execution_count": 1,
   "metadata": {},
   "outputs": [],
   "source": [
    "from ipywidgets import interact\n",
    "import numpy as np\n",
    "import matplotlib.pyplot as plt"
   ]
  },
  {
   "cell_type": "code",
   "execution_count": 2,
   "metadata": {},
   "outputs": [],
   "source": [
    "def X(x, m, c, p):\n",
    "    # print(f\"{x}*{m}({x*m}) + {c})({x*m + c}) % m === {(x*m + c) % p}\")\n",
    "    return (x*m + c) % p\n",
    "\n",
    "\n",
    "def lehmer_generator(u_0, m, c, p):\n",
    "    R = [u_0 / p]\n",
    "    u_i = [u_0]\n",
    "    while (len(np.unique(u_i)) < 1000) and (len(np.unique(u_i)) == len(u_i)): \n",
    "        temp = X(u_i[-1], m, c, p)\n",
    "        R.append(temp / p)\n",
    "        u_i.append(temp)\n",
    "    return u_i, R\n",
    "\n",
    "def length_test(m=3, c=3, p=2):\n",
    "    for u_0 in range(1001):\n",
    "        u_values, r_values = lehmer_generator(u_0, m, c, p)\n",
    "        plt.plot(u_values)"
   ]
  },
  {
   "cell_type": "code",
   "execution_count": 3,
   "metadata": {},
   "outputs": [
    {
     "data": {
      "application/vnd.jupyter.widget-view+json": {
       "model_id": "f705dcae77d74f7f82ed2f655261342f",
       "version_major": 2,
       "version_minor": 0
      },
      "text/plain": [
       "interactive(children=(IntSlider(value=3, description='m', max=1000, min=1), IntSlider(value=3, description='c'…"
      ]
     },
     "metadata": {},
     "output_type": "display_data"
    },
    {
     "data": {
      "text/plain": [
       "<function __main__.length_test(m=3, c=3, p=2)>"
      ]
     },
     "execution_count": 3,
     "metadata": {},
     "output_type": "execute_result"
    }
   ],
   "source": [
    "interact(length_test, m = (1, 1000), c = (1, 1000), p = (1, 1000))"
   ]
  },
  {
   "cell_type": "code",
   "execution_count": null,
   "metadata": {},
   "outputs": [],
   "source": []
  }
 ],
 "metadata": {
  "kernelspec": {
   "display_name": "venv",
   "language": "python",
   "name": "python3"
  },
  "language_info": {
   "codemirror_mode": {
    "name": "ipython",
    "version": 3
   },
   "file_extension": ".py",
   "mimetype": "text/x-python",
   "name": "python",
   "nbconvert_exporter": "python",
   "pygments_lexer": "ipython3",
   "version": "3.10.0"
  },
  "orig_nbformat": 4
 },
 "nbformat": 4,
 "nbformat_minor": 2
}
